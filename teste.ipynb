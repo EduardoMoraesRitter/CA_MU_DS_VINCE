{
  "nbformat": 4,
  "nbformat_minor": 0,
  "metadata": {
    "colab": {
      "name": "teste",
      "provenance": [],
      "include_colab_link": true
    },
    "kernelspec": {
      "name": "python3",
      "display_name": "Python 3"
    }
  },
  "cells": [
    {
      "cell_type": "markdown",
      "metadata": {
        "id": "view-in-github",
        "colab_type": "text"
      },
      "source": [
        "<a href=\"https://colab.research.google.com/github/EduardoMoraesRitter/CA_MU_DS_VINCE/blob/master/teste.ipynb\" target=\"_parent\"><img src=\"https://colab.research.google.com/assets/colab-badge.svg\" alt=\"Open In Colab\"/></a>"
      ]
    },
    {
      "cell_type": "code",
      "metadata": {
        "id": "d9uMgUa4BKzZ",
        "colab_type": "code",
        "colab": {
          "base_uri": "https://localhost:8080/",
          "height": 524
        },
        "outputId": "bc5967d7-1057-4054-9a31-98650dadeac1"
      },
      "source": [
        "import pandas as pd \n",
        "import matplotlib.pyplot as plt \n",
        "import seaborn as sns  \n",
        "train = pd.read_csv('https://raw.githubusercontent.com/EduardoMoraesRitter/CA_MU_DS_VINCE/master/dado_municipios%20.csv', encoding='UTF-8', error_bad_lines=False, sep=';') \n",
        "\n",
        "train"
      ],
      "execution_count": 59,
      "outputs": [
        {
          "output_type": "execute_result",
          "data": {
            "text/html": [
              "<div>\n",
              "<style scoped>\n",
              "    .dataframe tbody tr th:only-of-type {\n",
              "        vertical-align: middle;\n",
              "    }\n",
              "\n",
              "    .dataframe tbody tr th {\n",
              "        vertical-align: top;\n",
              "    }\n",
              "\n",
              "    .dataframe thead th {\n",
              "        text-align: right;\n",
              "    }\n",
              "</style>\n",
              "<table border=\"1\" class=\"dataframe\">\n",
              "  <thead>\n",
              "    <tr style=\"text-align: right;\">\n",
              "      <th></th>\n",
              "      <th>Cód. IBGE</th>\n",
              "      <th>Cód. CNES</th>\n",
              "      <th>Municipio</th>\n",
              "      <th>População</th>\n",
              "      <th>Crianças (0 a 14 anos)</th>\n",
              "      <th>Jovens (15 a 24 anos)</th>\n",
              "      <th>Adultos (25 a 59 anos)</th>\n",
              "      <th>Idosos (60 a 75+ anos)</th>\n",
              "      <th>População Masculina</th>\n",
              "      <th>População Feminina</th>\n",
              "      <th>Grau de Urbanização (Em %)</th>\n",
              "      <th>Abastecimento de Água</th>\n",
              "      <th>Coleta de Lixo</th>\n",
              "      <th>Esgoto Sanitário</th>\n",
              "      <th>Total Doses Aplicadas</th>\n",
              "      <th>Qtd. Estabelecimentos</th>\n",
              "      <th>Total Equip (existente)</th>\n",
              "      <th>Total Equip (em uso)</th>\n",
              "      <th>Total Medicos</th>\n",
              "      <th>Densidade demográfica</th>\n",
              "      <th>Mortalidade infantil</th>\n",
              "      <th>Renda\\nper capta</th>\n",
              "      <th>IDHM</th>\n",
              "      <th>IDHM Longevidade</th>\n",
              "      <th>IDHM Educação</th>\n",
              "      <th>IDHM Renda</th>\n",
              "      <th>IDHM Ranking</th>\n",
              "      <th>Índice Futuridade</th>\n",
              "      <th>Grau Futuridade</th>\n",
              "    </tr>\n",
              "  </thead>\n",
              "  <tbody>\n",
              "    <tr>\n",
              "      <th>0</th>\n",
              "      <td>3500105</td>\n",
              "      <td>350010</td>\n",
              "      <td>Adamantina</td>\n",
              "      <td>33894</td>\n",
              "      <td>5218</td>\n",
              "      <td>4059</td>\n",
              "      <td>17219</td>\n",
              "      <td>7398</td>\n",
              "      <td>16326</td>\n",
              "      <td>17568</td>\n",
              "      <td>96,38</td>\n",
              "      <td>99,76</td>\n",
              "      <td>99,89</td>\n",
              "      <td>99,03</td>\n",
              "      <td>13419</td>\n",
              "      <td>140</td>\n",
              "      <td>336</td>\n",
              "      <td>284</td>\n",
              "      <td>145.0</td>\n",
              "      <td>85,12</td>\n",
              "      <td>11,63</td>\n",
              "      <td>778,44</td>\n",
              "      <td>0,79</td>\n",
              "      <td>0,852</td>\n",
              "      <td>0,75</td>\n",
              "      <td>0,772</td>\n",
              "      <td>35</td>\n",
              "      <td>66,5</td>\n",
              "      <td>(Alto)</td>\n",
              "    </tr>\n",
              "    <tr>\n",
              "      <th>1</th>\n",
              "      <td>3500204</td>\n",
              "      <td>350020</td>\n",
              "      <td>Adolfo</td>\n",
              "      <td>3447</td>\n",
              "      <td>525</td>\n",
              "      <td>458</td>\n",
              "      <td>1703</td>\n",
              "      <td>761</td>\n",
              "      <td>1707</td>\n",
              "      <td>1740</td>\n",
              "      <td>92,52</td>\n",
              "      <td>96,76</td>\n",
              "      <td>99,72</td>\n",
              "      <td>95,93</td>\n",
              "      <td>3263</td>\n",
              "      <td>5</td>\n",
              "      <td>32</td>\n",
              "      <td>31</td>\n",
              "      <td>5.0</td>\n",
              "      <td>16,88</td>\n",
              "      <td>19,23</td>\n",
              "      <td>588,02</td>\n",
              "      <td>0,73</td>\n",
              "      <td>0,844</td>\n",
              "      <td>0,648</td>\n",
              "      <td>0,71</td>\n",
              "      <td>388</td>\n",
              "      <td>60,1</td>\n",
              "      <td>(Alto)</td>\n",
              "    </tr>\n",
              "    <tr>\n",
              "      <th>2</th>\n",
              "      <td>3500303</td>\n",
              "      <td>350030</td>\n",
              "      <td>Aguaí</td>\n",
              "      <td>35608</td>\n",
              "      <td>7075</td>\n",
              "      <td>5215</td>\n",
              "      <td>18073</td>\n",
              "      <td>5245</td>\n",
              "      <td>17889</td>\n",
              "      <td>17719</td>\n",
              "      <td>92,21</td>\n",
              "      <td>99,29</td>\n",
              "      <td>99,66</td>\n",
              "      <td>98,87</td>\n",
              "      <td>16257</td>\n",
              "      <td>64</td>\n",
              "      <td>68</td>\n",
              "      <td>66</td>\n",
              "      <td>65.0</td>\n",
              "      <td>76,5</td>\n",
              "      <td>16,06</td>\n",
              "      <td>540,88</td>\n",
              "      <td>0,715</td>\n",
              "      <td>0,858</td>\n",
              "      <td>0,606</td>\n",
              "      <td>0,703</td>\n",
              "      <td>502</td>\n",
              "      <td>27</td>\n",
              "      <td>(Baixo)</td>\n",
              "    </tr>\n",
              "    <tr>\n",
              "      <th>3</th>\n",
              "      <td>3500402</td>\n",
              "      <td>350040</td>\n",
              "      <td>Águas da Prata</td>\n",
              "      <td>7797</td>\n",
              "      <td>1174</td>\n",
              "      <td>994</td>\n",
              "      <td>3900</td>\n",
              "      <td>1729</td>\n",
              "      <td>3830</td>\n",
              "      <td>3967</td>\n",
              "      <td>92,19</td>\n",
              "      <td>95,84</td>\n",
              "      <td>99,38</td>\n",
              "      <td>87,99</td>\n",
              "      <td>3050</td>\n",
              "      <td>4</td>\n",
              "      <td>25</td>\n",
              "      <td>25</td>\n",
              "      <td>18.0</td>\n",
              "      <td>57,33</td>\n",
              "      <td>25,32</td>\n",
              "      <td>726,28</td>\n",
              "      <td>0,781</td>\n",
              "      <td>0,886</td>\n",
              "      <td>0,716</td>\n",
              "      <td>0,75</td>\n",
              "      <td>62</td>\n",
              "      <td>57,2</td>\n",
              "      <td>(Médio-alto)</td>\n",
              "    </tr>\n",
              "    <tr>\n",
              "      <th>4</th>\n",
              "      <td>3500501</td>\n",
              "      <td>350050</td>\n",
              "      <td>Águas de Lindóia</td>\n",
              "      <td>18374</td>\n",
              "      <td>3506</td>\n",
              "      <td>2450</td>\n",
              "      <td>9143</td>\n",
              "      <td>3275</td>\n",
              "      <td>8944</td>\n",
              "      <td>9430</td>\n",
              "      <td>99,1</td>\n",
              "      <td>93,54</td>\n",
              "      <td>98,74</td>\n",
              "      <td>90,33</td>\n",
              "      <td>8196</td>\n",
              "      <td>41</td>\n",
              "      <td>174</td>\n",
              "      <td>161</td>\n",
              "      <td>46.0</td>\n",
              "      <td>311,1</td>\n",
              "      <td>8,37</td>\n",
              "      <td>680,22</td>\n",
              "      <td>0,745</td>\n",
              "      <td>0,846</td>\n",
              "      <td>0,675</td>\n",
              "      <td>0,725</td>\n",
              "      <td>265</td>\n",
              "      <td>66,8</td>\n",
              "      <td>(Alto)</td>\n",
              "    </tr>\n",
              "    <tr>\n",
              "      <th>...</th>\n",
              "      <td>...</td>\n",
              "      <td>...</td>\n",
              "      <td>...</td>\n",
              "      <td>...</td>\n",
              "      <td>...</td>\n",
              "      <td>...</td>\n",
              "      <td>...</td>\n",
              "      <td>...</td>\n",
              "      <td>...</td>\n",
              "      <td>...</td>\n",
              "      <td>...</td>\n",
              "      <td>...</td>\n",
              "      <td>...</td>\n",
              "      <td>...</td>\n",
              "      <td>...</td>\n",
              "      <td>...</td>\n",
              "      <td>...</td>\n",
              "      <td>...</td>\n",
              "      <td>...</td>\n",
              "      <td>...</td>\n",
              "      <td>...</td>\n",
              "      <td>...</td>\n",
              "      <td>...</td>\n",
              "      <td>...</td>\n",
              "      <td>...</td>\n",
              "      <td>...</td>\n",
              "      <td>...</td>\n",
              "      <td>...</td>\n",
              "      <td>...</td>\n",
              "    </tr>\n",
              "    <tr>\n",
              "      <th>640</th>\n",
              "      <td>3557006</td>\n",
              "      <td>355700</td>\n",
              "      <td>Votorantim</td>\n",
              "      <td>119824</td>\n",
              "      <td>23682</td>\n",
              "      <td>18194</td>\n",
              "      <td>61570</td>\n",
              "      <td>16378</td>\n",
              "      <td>59303</td>\n",
              "      <td>60521</td>\n",
              "      <td>96,19</td>\n",
              "      <td>98,38</td>\n",
              "      <td>99,8</td>\n",
              "      <td>95,94</td>\n",
              "      <td>57667</td>\n",
              "      <td>103</td>\n",
              "      <td>683</td>\n",
              "      <td>662</td>\n",
              "      <td>68.0</td>\n",
              "      <td>667,4</td>\n",
              "      <td>13,64</td>\n",
              "      <td>643,2</td>\n",
              "      <td>0,767</td>\n",
              "      <td>0,838</td>\n",
              "      <td>0,747</td>\n",
              "      <td>0,72</td>\n",
              "      <td>127</td>\n",
              "      <td>35,5</td>\n",
              "      <td>(Médio)</td>\n",
              "    </tr>\n",
              "    <tr>\n",
              "      <th>641</th>\n",
              "      <td>3557105</td>\n",
              "      <td>355710</td>\n",
              "      <td>Votuporanga</td>\n",
              "      <td>91760</td>\n",
              "      <td>14260</td>\n",
              "      <td>11418</td>\n",
              "      <td>48879</td>\n",
              "      <td>17203</td>\n",
              "      <td>44664</td>\n",
              "      <td>47096</td>\n",
              "      <td>97,2</td>\n",
              "      <td>99,5</td>\n",
              "      <td>99,79</td>\n",
              "      <td>98,95</td>\n",
              "      <td>59395</td>\n",
              "      <td>224</td>\n",
              "      <td>1338</td>\n",
              "      <td>1267</td>\n",
              "      <td>279.0</td>\n",
              "      <td>224,74</td>\n",
              "      <td>8,61</td>\n",
              "      <td>808</td>\n",
              "      <td>0,79</td>\n",
              "      <td>0,857</td>\n",
              "      <td>0,744</td>\n",
              "      <td>0,772</td>\n",
              "      <td>35</td>\n",
              "      <td>50</td>\n",
              "      <td>(Médio-alto)</td>\n",
              "    </tr>\n",
              "    <tr>\n",
              "      <th>642</th>\n",
              "      <td>3557154</td>\n",
              "      <td>355715</td>\n",
              "      <td>Zacarias</td>\n",
              "      <td>2560</td>\n",
              "      <td>414</td>\n",
              "      <td>351</td>\n",
              "      <td>1314</td>\n",
              "      <td>481</td>\n",
              "      <td>1271</td>\n",
              "      <td>1289</td>\n",
              "      <td>85,27</td>\n",
              "      <td>99,06</td>\n",
              "      <td>100</td>\n",
              "      <td>97,02</td>\n",
              "      <td>1089</td>\n",
              "      <td>3</td>\n",
              "      <td>41</td>\n",
              "      <td>36</td>\n",
              "      <td>NaN</td>\n",
              "      <td>8,52</td>\n",
              "      <td>32,26</td>\n",
              "      <td>523,97</td>\n",
              "      <td>0,729</td>\n",
              "      <td>0,826</td>\n",
              "      <td>0,674</td>\n",
              "      <td>0,695</td>\n",
              "      <td>400</td>\n",
              "      <td>60</td>\n",
              "      <td>(Médio-alto)</td>\n",
              "    </tr>\n",
              "    <tr>\n",
              "      <th>643</th>\n",
              "      <td>3557204</td>\n",
              "      <td>355720</td>\n",
              "      <td>Chavantes</td>\n",
              "      <td>12223</td>\n",
              "      <td>2507</td>\n",
              "      <td>1803</td>\n",
              "      <td>5815</td>\n",
              "      <td>2098</td>\n",
              "      <td>6055</td>\n",
              "      <td>6168</td>\n",
              "      <td>94,29</td>\n",
              "      <td>100</td>\n",
              "      <td>99,91</td>\n",
              "      <td>98</td>\n",
              "      <td>5682</td>\n",
              "      <td>20</td>\n",
              "      <td>96</td>\n",
              "      <td>89</td>\n",
              "      <td>6.0</td>\n",
              "      <td>65,8</td>\n",
              "      <td>5,29</td>\n",
              "      <td>586,48</td>\n",
              "      <td>0,729</td>\n",
              "      <td>0,828</td>\n",
              "      <td>0,655</td>\n",
              "      <td>0,713</td>\n",
              "      <td>400</td>\n",
              "      <td>50,9</td>\n",
              "      <td>(Médio-alto)</td>\n",
              "    </tr>\n",
              "    <tr>\n",
              "      <th>644</th>\n",
              "      <td>3557303</td>\n",
              "      <td>355730</td>\n",
              "      <td>Estiva Gerbi</td>\n",
              "      <td>11079</td>\n",
              "      <td>1988</td>\n",
              "      <td>1617</td>\n",
              "      <td>5868</td>\n",
              "      <td>1606</td>\n",
              "      <td>5523</td>\n",
              "      <td>5556</td>\n",
              "      <td>79,76</td>\n",
              "      <td>97,92</td>\n",
              "      <td>99,15</td>\n",
              "      <td>96,36</td>\n",
              "      <td>4210</td>\n",
              "      <td>12</td>\n",
              "      <td>32</td>\n",
              "      <td>32</td>\n",
              "      <td>8.0</td>\n",
              "      <td>152,46</td>\n",
              "      <td>7,87</td>\n",
              "      <td>581,02</td>\n",
              "      <td>0,74</td>\n",
              "      <td>0,815</td>\n",
              "      <td>0,695</td>\n",
              "      <td>0,716</td>\n",
              "      <td>306</td>\n",
              "      <td>37,2</td>\n",
              "      <td>(Médio)</td>\n",
              "    </tr>\n",
              "  </tbody>\n",
              "</table>\n",
              "<p>645 rows × 29 columns</p>\n",
              "</div>"
            ],
            "text/plain": [
              "     Cód. IBGE  Cód. CNES  ... Índice Futuridade  Grau Futuridade\n",
              "0      3500105     350010  ...              66,5           (Alto)\n",
              "1      3500204     350020  ...              60,1           (Alto)\n",
              "2      3500303     350030  ...                27          (Baixo)\n",
              "3      3500402     350040  ...              57,2     (Médio-alto)\n",
              "4      3500501     350050  ...              66,8           (Alto)\n",
              "..         ...        ...  ...               ...              ...\n",
              "640    3557006     355700  ...              35,5          (Médio)\n",
              "641    3557105     355710  ...                50     (Médio-alto)\n",
              "642    3557154     355715  ...                60     (Médio-alto)\n",
              "643    3557204     355720  ...              50,9     (Médio-alto)\n",
              "644    3557303     355730  ...              37,2          (Médio)\n",
              "\n",
              "[645 rows x 29 columns]"
            ]
          },
          "metadata": {
            "tags": []
          },
          "execution_count": 59
        }
      ]
    },
    {
      "cell_type": "code",
      "metadata": {
        "id": "UBpe_VW9BcXw",
        "colab_type": "code",
        "colab": {
          "base_uri": "https://localhost:8080/",
          "height": 527
        },
        "outputId": "eea2dc26-7dfb-407b-c347-ece4a628bce0"
      },
      "source": [
        "train.isnull().sum()"
      ],
      "execution_count": 60,
      "outputs": [
        {
          "output_type": "execute_result",
          "data": {
            "text/plain": [
              "Cód. IBGE                      0\n",
              "Cód. CNES                      0\n",
              "Municipio                      0\n",
              "População                      0\n",
              "Crianças (0 a 14 anos)         0\n",
              "Jovens (15 a 24 anos)          0\n",
              "Adultos (25 a 59 anos)         0\n",
              "Idosos (60 a 75+ anos)         0\n",
              "População Masculina            0\n",
              "População Feminina             0\n",
              "Grau de Urbanização (Em %)     0\n",
              "Abastecimento de Água          0\n",
              "Coleta de Lixo                 0\n",
              "Esgoto Sanitário               0\n",
              " Total Doses Aplicadas         0\n",
              "Qtd. Estabelecimentos          0\n",
              "Total Equip (existente)        0\n",
              "Total Equip (em uso)           0\n",
              "Total Medicos                 28\n",
              "Densidade demográfica          0\n",
              "Mortalidade infantil           0\n",
              "Renda\\nper capta               0\n",
              "IDHM                           0\n",
              "IDHM Longevidade               0\n",
              "IDHM Educação                  0\n",
              "IDHM Renda                     0\n",
              "IDHM Ranking                   0\n",
              "Índice Futuridade              0\n",
              "Grau Futuridade                0\n",
              "dtype: int64"
            ]
          },
          "metadata": {
            "tags": []
          },
          "execution_count": 60
        }
      ]
    },
    {
      "cell_type": "code",
      "metadata": {
        "id": "cqy7p4085dGu",
        "colab_type": "code",
        "colab": {
          "base_uri": "https://localhost:8080/",
          "height": 170
        },
        "outputId": "eaac918d-6777-4079-ff6c-34602c2d7fcf"
      },
      "source": [
        "train['Total Medicos'].describe()"
      ],
      "execution_count": 61,
      "outputs": [
        {
          "output_type": "execute_result",
          "data": {
            "text/plain": [
              "count      617.000000\n",
              "mean       192.735818\n",
              "std       1740.708049\n",
              "min          1.000000\n",
              "25%          4.000000\n",
              "50%         13.000000\n",
              "75%         57.000000\n",
              "max      42030.000000\n",
              "Name: Total Medicos, dtype: float64"
            ]
          },
          "metadata": {
            "tags": []
          },
          "execution_count": 61
        }
      ]
    },
    {
      "cell_type": "code",
      "metadata": {
        "id": "L1lySjem-7Z4",
        "colab_type": "code",
        "colab": {
          "base_uri": "https://localhost:8080/",
          "height": 282
        },
        "outputId": "a03d19d3-3452-4560-8b74-12c2ee4c9435"
      },
      "source": [
        "train['Total Medicos'].hist()"
      ],
      "execution_count": 62,
      "outputs": [
        {
          "output_type": "execute_result",
          "data": {
            "text/plain": [
              "<matplotlib.axes._subplots.AxesSubplot at 0x7fcd7177f4a8>"
            ]
          },
          "metadata": {
            "tags": []
          },
          "execution_count": 62
        },
        {
          "output_type": "display_data",
          "data": {
            "image/png": "[encoded data removed]",
            "text/plain": [
              "<Figure size 432x288 with 1 Axes>"
            ]
          },
          "metadata": {
            "tags": [],
            "needs_background": "light"
          }
        }
      ]
    },
    {
      "cell_type": "code",
      "metadata": {
        "id": "PxHn2Kwg_cAU",
        "colab_type": "code",
        "colab": {
          "base_uri": "https://localhost:8080/",
          "height": 296
        },
        "outputId": "b458462f-f841-47ef-8381-847453079d56"
      },
      "source": [
        "sns.boxplot(x = train['Total Medicos'])"
      ],
      "execution_count": 63,
      "outputs": [
        {
          "output_type": "execute_result",
          "data": {
            "text/plain": [
              "<matplotlib.axes._subplots.AxesSubplot at 0x7fcd717a1da0>"
            ]
          },
          "metadata": {
            "tags": []
          },
          "execution_count": 63
        },
        {
          "output_type": "display_data",
          "data": {
            "image/png": "[encoded data removed]",
            "text/plain": [
              "<Figure size 432x288 with 1 Axes>"
            ]
          },
          "metadata": {
            "tags": [],
            "needs_background": "light"
          }
        }
      ]
    },
    {
      "cell_type": "code",
      "metadata": {
        "id": "Drurd3C67h_7",
        "colab_type": "code",
        "colab": {
          "base_uri": "https://localhost:8080/",
          "height": 282
        },
        "outputId": "b06cf058-d50e-44be-eaf8-32aeee73a895"
      },
      "source": [
        "filter = train['Total Medicos'] < 20\n",
        "train[filter]['Total Medicos'].hist()"
      ],
      "execution_count": 64,
      "outputs": [
        {
          "output_type": "execute_result",
          "data": {
            "text/plain": [
              "<matplotlib.axes._subplots.AxesSubplot at 0x7fcd716cbb70>"
            ]
          },
          "metadata": {
            "tags": []
          },
          "execution_count": 64
        },
        {
          "output_type": "display_data",
          "data": {
            "image/png": "[encoded data removed]",
            "text/plain": [
              "<Figure size 432x288 with 1 Axes>"
            ]
          },
          "metadata": {
            "tags": [],
            "needs_background": "light"
          }
        }
      ]
    },
    {
      "cell_type": "code",
      "metadata": {
        "id": "Cj9fGZq28HEV",
        "colab_type": "code",
        "colab": {}
      },
      "source": [
        "train['Razao Medico Pop'] = (train['Total Medicos'] * 1000)/ train['População']"
      ],
      "execution_count": 0,
      "outputs": []
    },
    {
      "cell_type": "code",
      "metadata": {
        "id": "O8FpULyHAj8l",
        "colab_type": "code",
        "colab": {
          "base_uri": "https://localhost:8080/",
          "height": 170
        },
        "outputId": "9a3ac8f0-2eb2-4359-bff9-3bf3069a1519"
      },
      "source": [
        "train['Razao Medico Pop'].describe()"
      ],
      "execution_count": 69,
      "outputs": [
        {
          "output_type": "execute_result",
          "data": {
            "text/plain": [
              "count    617.000000\n",
              "mean       1.316130\n",
              "std        1.101992\n",
              "min        0.054215\n",
              "25%        0.571592\n",
              "50%        0.984601\n",
              "75%        1.788577\n",
              "max        8.622950\n",
              "Name: Razao Medico Pop, dtype: float64"
            ]
          },
          "metadata": {
            "tags": []
          },
          "execution_count": 69
        }
      ]
    },
    {
      "cell_type": "code",
      "metadata": {
        "id": "L2VyOZCQEHVc",
        "colab_type": "code",
        "colab": {}
      },
      "source": [
        "import numpy as np\n",
        "train['Razao Medico Pop'] = train['Razao Medico Pop'].replace(np.nan, train['Razao Medico Pop'].mean())"
      ],
      "execution_count": 0,
      "outputs": []
    },
    {
      "cell_type": "code",
      "metadata": {
        "id": "wtbaOiszF3B2",
        "colab_type": "code",
        "colab": {
          "base_uri": "https://localhost:8080/",
          "height": 221
        },
        "outputId": "93640bff-0206-4268-bb89-e93b11adf782"
      },
      "source": [
        "train['Grau Futuridade']"
      ],
      "execution_count": 78,
      "outputs": [
        {
          "output_type": "execute_result",
          "data": {
            "text/plain": [
              "0            (Alto)\n",
              "1            (Alto)\n",
              "2           (Baixo)\n",
              "3      (Médio-alto)\n",
              "4            (Alto)\n",
              "           ...     \n",
              "640         (Médio)\n",
              "641    (Médio-alto)\n",
              "642    (Médio-alto)\n",
              "643    (Médio-alto)\n",
              "644         (Médio)\n",
              "Name: Grau Futuridade, Length: 645, dtype: object"
            ]
          },
          "metadata": {
            "tags": []
          },
          "execution_count": 78
        }
      ]
    },
    {
      "cell_type": "code",
      "metadata": {
        "id": "Q6lbBACoGCUK",
        "colab_type": "code",
        "colab": {}
      },
      "source": [
        ""
      ],
      "execution_count": 0,
      "outputs": []
    }
  ]
}